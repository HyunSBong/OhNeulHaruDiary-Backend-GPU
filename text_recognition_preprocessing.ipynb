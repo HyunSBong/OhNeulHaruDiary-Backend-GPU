{
 "cells": [
  {
   "cell_type": "code",
   "execution_count": 10,
   "id": "78c19d0e-4e18-4615-9be8-742fae85d3b1",
   "metadata": {},
   "outputs": [],
   "source": [
    "import pandas as pd\n",
    "import itertools\n",
    "import json\n",
    "import os\n",
    "import glob\n",
    "from tqdm import tqdm"
   ]
  },
  {
   "cell_type": "code",
   "execution_count": 11,
   "id": "8c7753e1-b8b3-4efc-85bc-27814dde02da",
   "metadata": {},
   "outputs": [],
   "source": [
    "path = 'data/다양한_형태의_한글문자_OCR/Training/form/**/*.json'\n",
    "file_list = glob.glob(path, recursive=True)\n",
    "train_files = [file for file in file_list if file.endswith('.json')]"
   ]
  },
  {
   "cell_type": "code",
   "execution_count": 12,
   "id": "f253cee3-a588-4a25-a0e0-78c23ec15740",
   "metadata": {},
   "outputs": [],
   "source": [
    "path = 'data/다양한_형태의_한글문자_OCR/Validation/form/**/*.json'\n",
    "file_list = glob.glob(path, recursive=True)\n",
    "test_files = [file for file in file_list if file.endswith('.json')]"
   ]
  },
  {
   "cell_type": "code",
   "execution_count": 28,
   "id": "619dcec9-2792-4f73-aa22-35c35c3dd185",
   "metadata": {},
   "outputs": [],
   "source": [
    "def getter(path_ls=[]):\n",
    "    img_masks = {}\n",
    "    for path in path_ls:\n",
    "        img_masks_sub = {}\n",
    "        with open(path) as f:\n",
    "            js = json.loads(f.read())\n",
    "\n",
    "        img_masks_sub[js['image']['file_name']] = []\n",
    "        for idx, wordboxs in enumerate(js['text']['word']):\n",
    "            wordbox = wordboxs['wordbox']\n",
    "            value = wordboxs['value']\n",
    "            img_masks_sub[js['image']['file_name']].append({\n",
    "                \"text\" : value,\n",
    "                \"attribute\" : {\"class\" : \"word\"},\n",
    "                \"bbox\" : wordbox\n",
    "            })\n",
    "        img_masks.update(img_masks_sub)\n",
    "            \n",
    "    \n",
    "    return img_masks"
   ]
  },
  {
   "cell_type": "code",
   "execution_count": 37,
   "id": "41878255-da88-4b49-a5d2-aef54bd6e119",
   "metadata": {},
   "outputs": [],
   "source": [
    "train_result = getter(train_files)"
   ]
  },
  {
   "cell_type": "code",
   "execution_count": 38,
   "id": "79dd2db1-972a-41c6-ab0f-c1f144ca6713",
   "metadata": {},
   "outputs": [
    {
     "data": {
      "text/plain": [
       "3750"
      ]
     },
     "execution_count": 38,
     "metadata": {},
     "output_type": "execute_result"
    }
   ],
   "source": [
    "validation_range = len(test_files) // 2\n",
    "validation_range"
   ]
  },
  {
   "cell_type": "code",
   "execution_count": 39,
   "id": "d9589472-7f92-437b-80fb-8ef8b9037628",
   "metadata": {},
   "outputs": [],
   "source": [
    "validation_result = getter(test_files[:validation_range])"
   ]
  },
  {
   "cell_type": "code",
   "execution_count": 29,
   "id": "caffc656-8a04-458b-964a-20c23e01d8c6",
   "metadata": {},
   "outputs": [],
   "source": [
    "test_result = getter(test_files[validation_range:])"
   ]
  },
  {
   "cell_type": "code",
   "execution_count": 40,
   "id": "a555ec0d-b387-4a5b-a6b4-f7de08fd133d",
   "metadata": {},
   "outputs": [
    {
     "data": {
      "text/plain": [
       "(60000, 3750, 3750)"
      ]
     },
     "execution_count": 40,
     "metadata": {},
     "output_type": "execute_result"
    }
   ],
   "source": [
    "len(train_result), len(validation_result), len(test_result)"
   ]
  },
  {
   "cell_type": "code",
   "execution_count": 41,
   "id": "44e37285-04bf-4198-b06c-11d958988929",
   "metadata": {},
   "outputs": [],
   "source": [
    "with open('./data/train_result.json', 'w') as file:\n",
    "    json.dump(train_result, file)\n",
    "with open('./data/validation_result.json', 'w') as file:\n",
    "    json.dump(validation_result, file)\n",
    "with open('./data/test_result.json', 'w') as file:\n",
    "    json.dump(test_result, file)"
   ]
  },
  {
   "cell_type": "code",
   "execution_count": 43,
   "id": "bf2bb851-4d83-4a64-8b5c-b27ae5ba7076",
   "metadata": {},
   "outputs": [
    {
     "name": "stderr",
     "output_type": "stream",
     "text": [
      "100%|████████████████████████████████████| 3750/3750 [00:00<00:00, 25272.98it/s]\n",
      "100%|██████████████████████████████████| 60000/60000 [00:05<00:00, 11806.84it/s]\n",
      "100%|████████████████████████████████████| 3750/3750 [00:00<00:00, 20437.21it/s]\n"
     ]
    }
   ],
   "source": [
    "## Make gt_xxx.txt files\n",
    "data_root_path = f'./data/'\n",
    "save_root_path = f'./data/'\n",
    "\n",
    "obj_list = ['test', 'train', 'validation']\n",
    "for obj in obj_list:\n",
    "    total_annotations = json.load(open(f'./data/{obj}_result.json'))\n",
    "    gt_file = open(f'{save_root_path}gt_{obj}.txt', 'w')\n",
    "    for file_name in tqdm(total_annotations):\n",
    "        annotations = total_annotations[file_name]\n",
    "        for idx, annotation in enumerate(annotations):\n",
    "            text = annotation['text']\n",
    "            gt_file.write(f'{obj}/{file_name}\\t{text}\\n')"
   ]
  },
  {
   "cell_type": "code",
   "execution_count": null,
   "id": "f0f5e0a7-2a09-4239-adb1-381da1215230",
   "metadata": {},
   "outputs": [],
   "source": []
  }
 ],
 "metadata": {
  "kernelspec": {
   "display_name": "Python 3 (ipykernel)",
   "language": "python",
   "name": "python3"
  },
  "language_info": {
   "codemirror_mode": {
    "name": "ipython",
    "version": 3
   },
   "file_extension": ".py",
   "mimetype": "text/x-python",
   "name": "python",
   "nbconvert_exporter": "python",
   "pygments_lexer": "ipython3",
   "version": "3.9.16"
  }
 },
 "nbformat": 4,
 "nbformat_minor": 5
}
