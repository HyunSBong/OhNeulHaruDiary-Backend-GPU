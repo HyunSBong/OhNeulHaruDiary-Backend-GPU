{
 "cells": [
  {
   "cell_type": "code",
   "execution_count": 1,
   "id": "7a50b7d8-80a1-478e-9efb-bda17eee9c47",
   "metadata": {},
   "outputs": [],
   "source": [
    "import torch\n",
    "from transformers import AutoTokenizer, BartForConditionalGeneration\n",
    "from transformers import PreTrainedTokenizerFast\n",
    "from transformers import BartForConditionalGeneration"
   ]
  },
  {
   "cell_type": "markdown",
   "id": "581ca2b2-976e-4be4-a587-0fdf50a25c47",
   "metadata": {},
   "source": [
    "# Model"
   ]
  },
  {
   "cell_type": "markdown",
   "id": "f93d050b-107f-4286-8b67-4328af4fe42b",
   "metadata": {},
   "source": [
    "### Ubuntu 22.04 LTS CUDA"
   ]
  },
  {
   "cell_type": "code",
   "execution_count": null,
   "id": "c7c1a753-84f0-473d-abb8-232abf5b413c",
   "metadata": {},
   "outputs": [],
   "source": [
    "model_dir = \"weights/alaggung-bart-r3f/\"\n",
    "model_dir2 = \"weights/kobart-summ/\"\n",
    "max_length = 64\n",
    "num_beams = 5\n",
    "length_penalty = 1.2\n",
    "\n",
    "tokenizer = AutoTokenizer.from_pretrained(model_dir)\n",
    "model = BartForConditionalGeneration.from_pretrained(model_dir)\n",
    "\n",
    "tokenizer_full = PreTrainedTokenizerFast.from_pretrained(model_dir2)\n",
    "model_full = BartForConditionalGeneration.from_pretrained(model_dir2)"
   ]
  },
  {
   "cell_type": "markdown",
   "id": "3789fa7f-ca0d-4770-960d-035b17fecf49",
   "metadata": {},
   "source": [
    "### Apple Silicon Mps"
   ]
  },
  {
   "cell_type": "code",
   "execution_count": 2,
   "id": "577b63ea-5bcd-4076-b075-ae6d93f568b7",
   "metadata": {},
   "outputs": [
    {
     "name": "stderr",
     "output_type": "stream",
     "text": [
      "You passed along `num_labels=3` with an incompatible id to label map: {'0': 'NEGATIVE', '1': 'POSITIVE'}. The number of labels wil be overwritten to 2.\n",
      "You passed along `num_labels=3` with an incompatible id to label map: {'0': 'NEGATIVE', '1': 'POSITIVE'}. The number of labels wil be overwritten to 2.\n"
     ]
    }
   ],
   "source": [
    "model_dir = \"weights/alaggung-bart-r3f/\"\n",
    "model_dir2 = \"weights/kobart-summ/\"\n",
    "max_length = 64\n",
    "num_beams = 5\n",
    "length_penalty = 1.2\n",
    "\n",
    "tokenizer = AutoTokenizer.from_pretrained(model_dir)\n",
    "model = BartForConditionalGeneration.from_pretrained(model_dir)\n",
    "\n",
    "tokenizer_full = PreTrainedTokenizerFast.from_pretrained(model_dir2)\n",
    "model_full = BartForConditionalGeneration.from_pretrained(model_dir2)"
   ]
  },
  {
   "cell_type": "markdown",
   "id": "65c679f2-f48e-43c4-baf6-1703f932916a",
   "metadata": {},
   "source": [
    "# Inference (diary)"
   ]
  },
  {
   "cell_type": "code",
   "execution_count": 3,
   "id": "abf8ab13-b262-4cbe-8317-d9e62c60a5d0",
   "metadata": {},
   "outputs": [],
   "source": [
    "text = \"\"\"\n",
    "1일 오후 9시까지 최소 20만3220명이 코로나19에 신규 확진됐다. 또다시 동시간대 최다 기록으로, 사상 처음 20만명대에 진입했다.\n",
    "방역 당국과 서울시 등 각 지방자치단체에 따르면 이날 0시부터 오후 9시까지 전국 신규 확진자는 총 20만3220명으로 집계됐다.\n",
    "국내 신규 확진자 수가 20만명대를 넘어선 것은 이번이 처음이다.\n",
    "동시간대 최다 기록은 지난 23일 오후 9시 기준 16만1389명이었는데, 이를 무려 4만1831명이나 웃돌았다. 전날 같은 시간 기록한 13만3481명보다도 6만9739명 많다.\n",
    "확진자 폭증은 3시간 전인 오후 6시 집계에서도 예견됐다.\n",
    "오후 6시까지 최소 17만8603명이 신규 확진돼 동시간대 최다 기록(24일 13만8419명)을 갈아치운 데 이어 이미 직전 0시 기준 역대 최다 기록도 넘어섰다. 역대 최다 기록은 지난 23일 0시 기준 17만1451명이었다.\n",
    "17개 지자체별로 보면 서울 4만6938명, 경기 6만7322명, 인천 1만985명 등 수도권이 12만5245명으로 전체의 61.6%를 차지했다. 서울과 경기는 모두 동시간대 기준 최다로, 처음으로 각각 4만명과 6만명을 넘어섰다.\n",
    "비수도권에서는 7만7975명(38.3%)이 발생했다. 제주를 제외한 나머지 지역에서 모두 동시간대 최다를 새로 썼다.\n",
    "부산 1만890명, 경남 9909명, 대구 6900명, 경북 6977명, 충남 5900명, 대전 5292명, 전북 5150명, 울산 5141명, 광주 5130명, 전남 4996명, 강원 4932명, 충북 3845명, 제주 1513명, 세종 1400명이다.\n",
    "집계를 마감하는 자정까지 시간이 남아있는 만큼 2일 0시 기준으로 발표될 신규 확진자 수는 이보다 더 늘어날 수 있다. 이에 따라 최종 집계되는 확진자 수는 21만명 안팎을 기록할 수 있을 전망이다.\n",
    "한편 전날 하루 선별진료소에서 이뤄진 검사는 70만8763건으로 검사 양성률은 40.5%다. 양성률이 40%를 넘은 것은 이번이 처음이다. 확산세가 계속 거세질 수 있다는 얘기다.\n",
    "이날 0시 기준 신규 확진자는 13만8993명이었다. 이틀 연속 13만명대를 이어갔다.\n",
    "\"\"\""
   ]
  },
  {
   "cell_type": "code",
   "execution_count": 11,
   "id": "1932adc8-4800-4ac1-bef9-cb8ff4cc19be",
   "metadata": {},
   "outputs": [
    {
     "name": "stdout",
     "output_type": "stream",
     "text": [
      "\n"
     ]
    }
   ],
   "source": [
    "text = text.replace('\\n', ' ')\n",
    "\n",
    "raw_input_ids = tokenizer_full.encode(text)\n",
    "input_ids = [tokenizer_full.bos_token_id] + raw_input_ids + [tokenizer_full.eos_token_id]\n",
    "\n",
    "summary_ids = model_full.generate(torch.tensor([input_ids]),  num_beams=4,  max_length=512,  eos_token_id=1)\n",
    "tokenizer_full.decode(summary_ids.squeeze().tolist(), skip_special_tokens=True)"
   ]
  },
  {
   "cell_type": "markdown",
   "id": "d0fd2690-9b5d-4707-be14-afde5f562a3a",
   "metadata": {},
   "source": [
    "# Inference (dialogue)"
   ]
  },
  {
   "cell_type": "code",
   "execution_count": 8,
   "id": "927a6f9b-9829-415d-8538-8f2a2c5709f1",
   "metadata": {},
   "outputs": [],
   "source": [
    "dialogue = [\n",
    "    \"얌 수인이랑 5/21에 보기로 했는데 너도 시간 되면 올래?\", \n",
    "    \"오 그래?? 좋지 좋지\", \n",
    "    \"되게 만들어야지\", \n",
    "    \"오 오키오키!\", \n",
    "    \"아직 어디서 볼지는 안 정한거지?\", \n",
    "    \"웅웅 날짜밖에 안 정햇어\",\n",
    "    \"부발역은\",\n",
    "    \"어디가 좋은데??\",\n",
    "    \"안되나요\",\n",
    "    \"ㅋㅋㅋㅋ\",\n",
    "    \"ㅋㅋㅋㅋㅋ에바여 할거없음\"\n",
    "]"
   ]
  },
  {
   "cell_type": "code",
   "execution_count": 9,
   "id": "ce72f6e8-5367-488d-b475-eacfea7df897",
   "metadata": {},
   "outputs": [],
   "source": [
    "# model.eval()\n",
    "inputs = tokenizer(\"[BOS]\" + \"[SEP]\".join(dialogue) + \"[EOS]\", return_tensors=\"pt\")\n",
    "outputs = model.generate(\n",
    "    inputs.input_ids,\n",
    "    attention_mask=inputs.attention_mask,\n",
    "    num_beams=num_beams,\n",
    "    length_penalty=length_penalty,\n",
    "    max_length=max_length,\n",
    "    use_cache=True,\n",
    ")"
   ]
  },
  {
   "cell_type": "code",
   "execution_count": 10,
   "id": "7a9fd785-7e86-429d-8309-7e492c5600ff",
   "metadata": {},
   "outputs": [
    {
     "name": "stdout",
     "output_type": "stream",
     "text": [
      "수인과 5월 21일에 부발역에서 만나기로 했다.\n"
     ]
    }
   ],
   "source": [
    "summarization = tokenizer.decode(outputs[0], skip_special_tokens=True)\n",
    "print(summarization)"
   ]
  },
  {
   "cell_type": "code",
   "execution_count": null,
   "id": "852e3307-0544-4e0e-a536-cfa63f628fd3",
   "metadata": {},
   "outputs": [],
   "source": []
  }
 ],
 "metadata": {
  "kernelspec": {
   "display_name": "Python 3 (ipykernel)",
   "language": "python",
   "name": "python3"
  },
  "language_info": {
   "codemirror_mode": {
    "name": "ipython",
    "version": 3
   },
   "file_extension": ".py",
   "mimetype": "text/x-python",
   "name": "python",
   "nbconvert_exporter": "python",
   "pygments_lexer": "ipython3",
   "version": "3.9.16"
  }
 },
 "nbformat": 4,
 "nbformat_minor": 5
}
